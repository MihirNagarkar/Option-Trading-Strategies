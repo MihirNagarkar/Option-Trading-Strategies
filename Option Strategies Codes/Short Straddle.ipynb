{
 "cells": [
  {
   "cell_type": "markdown",
   "metadata": {},
   "source": [
    "SHORT STRADDLE\n"
   ]
  },
  {
   "cell_type": "markdown",
   "metadata": {},
   "source": [
    "Write one call and Write one put of same expiration dates and same exercise price."
   ]
  },
  {
   "cell_type": "code",
   "execution_count": 2,
   "metadata": {},
   "outputs": [],
   "source": [
    "import matplotlib.pyplot as plt\n",
    "import numpy as np\n",
    "import pandas as pd"
   ]
  },
  {
   "cell_type": "markdown",
   "metadata": {},
   "source": [
    "Generate spot price range"
   ]
  },
  {
   "cell_type": "code",
   "execution_count": 3,
   "metadata": {},
   "outputs": [],
   "source": [
    "strike_price = int(input(\"Enter strike price: \"))\n",
    "spot1 = int(input(\"Enter the first spot price: \"))\n",
    "spot_last = int(input(\"Enter the last spot price: \"))\n",
    "spot_diff = int(input(\"Enter the difference between spot prices: \"))\n",
    "\n",
    "spot_prices = np.arange(spot1,spot_last,spot_diff)\n",
    "if spot_prices[-1] != spot_last:\n",
    "    spot_prices = list(np.append(spot_prices, spot_last))\n"
   ]
  },
  {
   "cell_type": "code",
   "execution_count": 4,
   "metadata": {},
   "outputs": [
    {
     "data": {
      "text/plain": [
       "[140, 145, 150, 155, 160, 165, 170, 175, 180, 185, 190, 195, 200]"
      ]
     },
     "execution_count": 4,
     "metadata": {},
     "output_type": "execute_result"
    }
   ],
   "source": [
    "spot_prices"
   ]
  },
  {
   "cell_type": "markdown",
   "metadata": {},
   "source": [
    "Accept Premiums of Call & Put"
   ]
  },
  {
   "cell_type": "code",
   "execution_count": 5,
   "metadata": {},
   "outputs": [],
   "source": [
    "prem_rec_short_call = int(input('Enter Premium Received for Shorted Call: '))\n",
    "premium_short_call = [prem_rec_short_call] * len(spot_prices)\n",
    "\n",
    "prem_rec_short_put = int(input('Enter Premium Received for Shorted Put: '))\n",
    "premium_short_put = [prem_rec_short_put] * len(spot_prices)"
   ]
  },
  {
   "cell_type": "markdown",
   "metadata": {},
   "source": [
    "Calculating Intrinsic Values"
   ]
  },
  {
   "cell_type": "code",
   "execution_count": 6,
   "metadata": {},
   "outputs": [],
   "source": [
    "iv_call = []\n",
    "payoff_short_call = []\n",
    "payoff_short_put = []\n",
    "net_payoff = []"
   ]
  },
  {
   "cell_type": "code",
   "execution_count": 7,
   "metadata": {},
   "outputs": [],
   "source": [
    "for i in (spot_prices):\n",
    "    \n",
    "    if (strike_price>=i) :\n",
    "        iv_call.append(0)\n",
    "\n",
    "    elif (strike_price < i):\n",
    "        temp = 0.0\n",
    "        temp = strike_price - i\n",
    "        iv_call.append(temp)"
   ]
  },
  {
   "cell_type": "code",
   "execution_count": 8,
   "metadata": {},
   "outputs": [
    {
     "data": {
      "text/plain": [
       "[0, 0, 0, 0, 0, 0, 0, -5, -10, -15, -20, -25, -30]"
      ]
     },
     "execution_count": 8,
     "metadata": {},
     "output_type": "execute_result"
    }
   ],
   "source": [
    "iv_call"
   ]
  },
  {
   "cell_type": "code",
   "execution_count": 9,
   "metadata": {},
   "outputs": [],
   "source": [
    "iv_put =[]"
   ]
  },
  {
   "cell_type": "code",
   "execution_count": 10,
   "metadata": {},
   "outputs": [],
   "source": [
    "for i in (spot_prices):\n",
    "    if (strike_price>i) :\n",
    "        temp = 0.0\n",
    "        temp = i - strike_price\n",
    "        iv_put.append(temp)\n",
    "\n",
    "    elif (strike_price <= i):\n",
    "        iv_put.append(0)"
   ]
  },
  {
   "cell_type": "code",
   "execution_count": 11,
   "metadata": {},
   "outputs": [
    {
     "data": {
      "text/plain": [
       "[-30, -25, -20, -15, -10, -5, 0, 0, 0, 0, 0, 0, 0]"
      ]
     },
     "execution_count": 11,
     "metadata": {},
     "output_type": "execute_result"
    }
   ],
   "source": [
    "iv_put"
   ]
  },
  {
   "cell_type": "markdown",
   "metadata": {},
   "source": [
    "Calculating Payoff for call and put"
   ]
  },
  {
   "cell_type": "code",
   "execution_count": 13,
   "metadata": {},
   "outputs": [
    {
     "data": {
      "text/plain": [
       "[15, 15, 15, 15, 15, 15, 15, 10, 5, 0, -5, -10, -15]"
      ]
     },
     "execution_count": 13,
     "metadata": {},
     "output_type": "execute_result"
    }
   ],
   "source": [
    "for i in range (len(spot_prices)):\n",
    "    pnl = iv_call[i] + premium_short_call[i]\n",
    "    payoff_short_call.append(pnl)\n",
    "payoff_short_call"
   ]
  },
  {
   "cell_type": "code",
   "execution_count": 12,
   "metadata": {},
   "outputs": [
    {
     "data": {
      "text/plain": [
       "[-27, -22, -17, -12, -7, -2, 3, 3, 3, 3, 3, 3, 3]"
      ]
     },
     "execution_count": 12,
     "metadata": {},
     "output_type": "execute_result"
    }
   ],
   "source": [
    "for i in range (len(spot_prices)):\n",
    "    pnl = iv_put[i] + premium_short_put[i]\n",
    "    payoff_short_put.append(pnl)\n",
    "payoff_short_put"
   ]
  },
  {
   "cell_type": "markdown",
   "metadata": {},
   "source": [
    "Calculation for Net Payoff"
   ]
  },
  {
   "cell_type": "code",
   "execution_count": 14,
   "metadata": {},
   "outputs": [
    {
     "data": {
      "text/plain": [
       "[-12, -7, -2, 3, 8, 13, 18, 13, 8, 3, -2, -7, -12]"
      ]
     },
     "execution_count": 14,
     "metadata": {},
     "output_type": "execute_result"
    }
   ],
   "source": [
    "for i in range (len(spot_prices)):\n",
    "    pnl = payoff_short_call[i] + payoff_short_put[i]\n",
    "    net_payoff.append(pnl)\n",
    "net_payoff"
   ]
  },
  {
   "cell_type": "markdown",
   "metadata": {},
   "source": [
    "FINAL ANSWER"
   ]
  },
  {
   "cell_type": "code",
   "execution_count": 23,
   "metadata": {},
   "outputs": [
    {
     "name": "stdout",
     "output_type": "stream",
     "text": [
      "Break-Even Price for Shorted Call = 185\n",
      "Break-Even Price for Shorted Put = 167\n"
     ]
    }
   ],
   "source": [
    "bep_call = strike_price + prem_rec_short_call\n",
    "bep_put = strike_price - prem_rec_short_put\n",
    "\n",
    "print(f\"Break-Even Price for Shorted Call = {bep_call}\")\n",
    "print(f\"Break-Even Price for Shorted Put = {bep_put}\")"
   ]
  },
  {
   "cell_type": "code",
   "execution_count": 15,
   "metadata": {},
   "outputs": [],
   "source": [
    "short_call_option_data = {'Spot Prices': spot_prices, 'Short Call IV': iv_call, 'Premium Paid (Call)':premium_short_call, 'P/L (Call)':payoff_short_call}\n",
    "short_call_option_data = pd.DataFrame(short_call_option_data)\n",
    "\n",
    "short_put_option_data = {'Spot Prices': spot_prices, 'Short Put IV': iv_put, 'Premium Recieved (Put)':premium_short_put, 'P/L (Put)':payoff_short_put}\n",
    "short_put_option_data = pd.DataFrame(short_put_option_data)"
   ]
  },
  {
   "cell_type": "code",
   "execution_count": 16,
   "metadata": {},
   "outputs": [
    {
     "name": "stdout",
     "output_type": "stream",
     "text": [
      "\n",
      "\t\t\tShort Call Option Data\n",
      "\n",
      "    Spot Prices  Short Call IV  Premium Paid (Call)  P/L (Call)\n",
      "0           140              0                       15          15\n",
      "1           145              0                       15          15\n",
      "2           150              0                       15          15\n",
      "3           155              0                       15          15\n",
      "4           160              0                       15          15\n",
      "5           165              0                       15          15\n",
      "6           170              0                       15          15\n",
      "7           175             -5                       15          10\n",
      "8           180            -10                       15           5\n",
      "9           185            -15                       15           0\n",
      "10          190            -20                       15          -5\n",
      "11          195            -25                       15         -10\n",
      "12          200            -30                       15         -15\n"
     ]
    }
   ],
   "source": [
    "print(\"\\n\\t\\t\\tShort Call Option Data\\n\")\n",
    "print(short_call_option_data)"
   ]
  },
  {
   "cell_type": "code",
   "execution_count": 17,
   "metadata": {},
   "outputs": [
    {
     "name": "stdout",
     "output_type": "stream",
     "text": [
      "\n",
      "\t\t\tShort Put Option Data\n",
      "\n",
      "    Spot Prices  Short Put IV  Premium Recieved (Put)  P/L (Put)\n",
      "0           140           -30                       3        -27\n",
      "1           145           -25                       3        -22\n",
      "2           150           -20                       3        -17\n",
      "3           155           -15                       3        -12\n",
      "4           160           -10                       3         -7\n",
      "5           165            -5                       3         -2\n",
      "6           170             0                       3          3\n",
      "7           175             0                       3          3\n",
      "8           180             0                       3          3\n",
      "9           185             0                       3          3\n",
      "10          190             0                       3          3\n",
      "11          195             0                       3          3\n",
      "12          200             0                       3          3\n"
     ]
    }
   ],
   "source": [
    "print(\"\\n\\t\\t\\tShort Put Option Data\\n\")\n",
    "print(short_put_option_data)"
   ]
  },
  {
   "cell_type": "code",
   "execution_count": 20,
   "metadata": {},
   "outputs": [
    {
     "name": "stdout",
     "output_type": "stream",
     "text": [
      "\n",
      "\t\t\tNet Pay-off Of Strategy\n",
      "\n",
      "    Strategy P/L\n",
      "0            -12\n",
      "1             -7\n",
      "2             -2\n",
      "3              3\n",
      "4              8\n",
      "5             13\n",
      "6             18\n",
      "7             13\n",
      "8              8\n",
      "9              3\n",
      "10            -2\n",
      "11            -7\n",
      "12           -12\n"
     ]
    }
   ],
   "source": [
    "net = {'Strategy P/L': net_payoff}\n",
    "net = pd.DataFrame(net)\n",
    "print(\"\\n\\t\\t\\tNet Pay-off Of Strategy\\n\")\n",
    "print(net)"
   ]
  },
  {
   "cell_type": "code",
   "execution_count": 22,
   "metadata": {},
   "outputs": [
    {
     "data": {
      "image/png": "[encoded data removed]",
      "text/plain": [
       "<Figure size 1000x600 with 1 Axes>"
      ]
     },
     "metadata": {},
     "output_type": "display_data"
    }
   ],
   "source": [
    "plt.figure(figsize=(10, 6))\n",
    "plt.plot(spot_prices, payoff_short_call, label='Short Call Payoff', color='red', linestyle='--')\n",
    "plt.plot(spot_prices, payoff_short_put, label='Short Put Payoff', color='blue', linestyle='--')\n",
    "plt.plot(spot_prices, net_payoff, label='Net Payoff', color='green', linewidth=2)\n",
    "plt.title('Payoff Diagram for Short Call and Short Put Options')\n",
    "plt.xlabel('Spot Prices')\n",
    "plt.ylabel('Payoff')\n",
    "plt.axhline(0, color='black', lw=0.5, ls='-')  \n",
    "plt.grid(True)\n",
    "plt.legend()\n",
    "plt.show()"
   ]
  }
 ],
 "metadata": {
  "kernelspec": {
   "display_name": "base",
   "language": "python",
   "name": "python3"
  },
  "language_info": {
   "codemirror_mode": {
    "name": "ipython",
    "version": 3
   },
   "file_extension": ".py",
   "mimetype": "text/x-python",
   "name": "python",
   "nbconvert_exporter": "python",
   "pygments_lexer": "ipython3",
   "version": "3.12.4"
  }
 },
 "nbformat": 4,
 "nbformat_minor": 2
}
