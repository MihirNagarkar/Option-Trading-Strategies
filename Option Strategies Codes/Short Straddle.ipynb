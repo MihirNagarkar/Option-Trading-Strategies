{
 "cells": [
  {
   "cell_type": "markdown",
   "metadata": {},
   "source": [
    "SHORT STRADDLE\n"
   ]
  },
  {
   "cell_type": "markdown",
   "metadata": {},
   "source": [
    "Write one call and Write one put of same expiration dates and same exercise price."
   ]
  },
  {
   "cell_type": "code",
   "execution_count": 2,
   "metadata": {},
   "outputs": [],
   "source": [
    "import matplotlib.pyplot as plt\n",
    "import numpy as np\n",
    "import pandas as pd"
   ]
  },
  {
   "cell_type": "markdown",
   "metadata": {},
   "source": [
    "Generate spot price range"
   ]
  },
  {
   "cell_type": "code",
   "execution_count": 26,
   "metadata": {},
   "outputs": [],
   "source": [
    "strike_price = int(input(\"Enter strike price: \"))\n",
    "spot1 = int(input(\"Enter the first spot price: \"))\n",
    "spot_last = int(input(\"Enter the last spot price: \"))\n",
    "spot_diff = int(input(\"Enter the difference between spot prices: \"))\n",
    "\n",
    "spot_prices = np.arange(spot1,spot_last,spot_diff)\n",
    "if spot_prices[-1] != spot_last:\n",
    "    spot_prices = list(np.append(spot_prices, spot_last))\n"
   ]
  },
  {
   "cell_type": "code",
   "execution_count": 27,
   "metadata": {},
   "outputs": [
    {
     "data": {
      "text/plain": [
       "[820,\n",
       " 830,\n",
       " 840,\n",
       " 850,\n",
       " 860,\n",
       " 870,\n",
       " 880,\n",
       " 890,\n",
       " 900,\n",
       " 910,\n",
       " 920,\n",
       " 930,\n",
       " 940,\n",
       " 950,\n",
       " 960,\n",
       " 970,\n",
       " 980,\n",
       " 990,\n",
       " 1000,\n",
       " 1010,\n",
       " 1020]"
      ]
     },
     "execution_count": 27,
     "metadata": {},
     "output_type": "execute_result"
    }
   ],
   "source": [
    "spot_prices"
   ]
  },
  {
   "cell_type": "markdown",
   "metadata": {},
   "source": [
    "Accept Premiums of Call & Put"
   ]
  },
  {
   "cell_type": "code",
   "execution_count": 29,
   "metadata": {},
   "outputs": [],
   "source": [
    "prem_rec_short_call = float(input('Enter Premium Received for Shorted Call: '))\n",
    "premium_short_call = [prem_rec_short_call] * len(spot_prices)\n",
    "\n",
    "prem_rec_short_put = float(input('Enter Premium Received for Shorted Put: '))\n",
    "premium_short_put = [prem_rec_short_put] * len(spot_prices)"
   ]
  },
  {
   "cell_type": "markdown",
   "metadata": {},
   "source": [
    "Calculating Intrinsic Values"
   ]
  },
  {
   "cell_type": "code",
   "execution_count": 30,
   "metadata": {},
   "outputs": [],
   "source": [
    "iv_call = []\n",
    "payoff_short_call = []\n",
    "payoff_short_put = []\n",
    "net_payoff = []"
   ]
  },
  {
   "cell_type": "code",
   "execution_count": 31,
   "metadata": {},
   "outputs": [],
   "source": [
    "for i in (spot_prices):\n",
    "    \n",
    "    if (strike_price>=i) :\n",
    "        iv_call.append(0)\n",
    "\n",
    "    elif (strike_price < i):\n",
    "        temp = 0.0\n",
    "        temp = strike_price - i\n",
    "        iv_call.append(temp)"
   ]
  },
  {
   "cell_type": "code",
   "execution_count": 32,
   "metadata": {},
   "outputs": [
    {
     "data": {
      "text/plain": [
       "[0,\n",
       " 0,\n",
       " 0,\n",
       " 0,\n",
       " 0,\n",
       " 0,\n",
       " 0,\n",
       " 0,\n",
       " 0,\n",
       " 0,\n",
       " 0,\n",
       " -10,\n",
       " -20,\n",
       " -30,\n",
       " -40,\n",
       " -50,\n",
       " -60,\n",
       " -70,\n",
       " -80,\n",
       " -90,\n",
       " -100]"
      ]
     },
     "execution_count": 32,
     "metadata": {},
     "output_type": "execute_result"
    }
   ],
   "source": [
    "iv_call"
   ]
  },
  {
   "cell_type": "code",
   "execution_count": 33,
   "metadata": {},
   "outputs": [],
   "source": [
    "iv_put =[]"
   ]
  },
  {
   "cell_type": "code",
   "execution_count": 34,
   "metadata": {},
   "outputs": [],
   "source": [
    "for i in (spot_prices):\n",
    "    if (strike_price>i) :\n",
    "        temp = 0.0\n",
    "        temp = i - strike_price\n",
    "        iv_put.append(temp)\n",
    "\n",
    "    elif (strike_price <= i):\n",
    "        iv_put.append(0)"
   ]
  },
  {
   "cell_type": "code",
   "execution_count": 35,
   "metadata": {},
   "outputs": [
    {
     "data": {
      "text/plain": [
       "[-100,\n",
       " -90,\n",
       " -80,\n",
       " -70,\n",
       " -60,\n",
       " -50,\n",
       " -40,\n",
       " -30,\n",
       " -20,\n",
       " -10,\n",
       " 0,\n",
       " 0,\n",
       " 0,\n",
       " 0,\n",
       " 0,\n",
       " 0,\n",
       " 0,\n",
       " 0,\n",
       " 0,\n",
       " 0,\n",
       " 0]"
      ]
     },
     "execution_count": 35,
     "metadata": {},
     "output_type": "execute_result"
    }
   ],
   "source": [
    "iv_put"
   ]
  },
  {
   "cell_type": "markdown",
   "metadata": {},
   "source": [
    "Calculating Payoff for call and put"
   ]
  },
  {
   "cell_type": "code",
   "execution_count": 36,
   "metadata": {},
   "outputs": [
    {
     "data": {
      "text/plain": [
       "[15.35,\n",
       " 15.35,\n",
       " 15.35,\n",
       " 15.35,\n",
       " 15.35,\n",
       " 15.35,\n",
       " 15.35,\n",
       " 15.35,\n",
       " 15.35,\n",
       " 15.35,\n",
       " 15.35,\n",
       " 5.35,\n",
       " -4.65,\n",
       " -14.65,\n",
       " -24.65,\n",
       " -34.65,\n",
       " -44.65,\n",
       " -54.65,\n",
       " -64.65,\n",
       " -74.65,\n",
       " -84.65]"
      ]
     },
     "execution_count": 36,
     "metadata": {},
     "output_type": "execute_result"
    }
   ],
   "source": [
    "for i in range (len(spot_prices)):\n",
    "    pnl = iv_call[i] + premium_short_call[i]\n",
    "    payoff_short_call.append(pnl)\n",
    "payoff_short_call"
   ]
  },
  {
   "cell_type": "code",
   "execution_count": 37,
   "metadata": {},
   "outputs": [
    {
     "data": {
      "text/plain": [
       "[-82.15,\n",
       " -72.15,\n",
       " -62.15,\n",
       " -52.15,\n",
       " -42.15,\n",
       " -32.15,\n",
       " -22.15,\n",
       " -12.149999999999999,\n",
       " -2.1499999999999986,\n",
       " 7.850000000000001,\n",
       " 17.85,\n",
       " 17.85,\n",
       " 17.85,\n",
       " 17.85,\n",
       " 17.85,\n",
       " 17.85,\n",
       " 17.85,\n",
       " 17.85,\n",
       " 17.85,\n",
       " 17.85,\n",
       " 17.85]"
      ]
     },
     "execution_count": 37,
     "metadata": {},
     "output_type": "execute_result"
    }
   ],
   "source": [
    "for i in range (len(spot_prices)):\n",
    "    pnl = iv_put[i] + premium_short_put[i]\n",
    "    payoff_short_put.append(pnl)\n",
    "payoff_short_put"
   ]
  },
  {
   "cell_type": "markdown",
   "metadata": {},
   "source": [
    "Calculation for Net Payoff"
   ]
  },
  {
   "cell_type": "code",
   "execution_count": 38,
   "metadata": {},
   "outputs": [
    {
     "data": {
      "text/plain": [
       "[-66.80000000000001,\n",
       " -56.800000000000004,\n",
       " -46.8,\n",
       " -36.8,\n",
       " -26.799999999999997,\n",
       " -16.799999999999997,\n",
       " -6.799999999999999,\n",
       " 3.200000000000001,\n",
       " 13.200000000000001,\n",
       " 23.200000000000003,\n",
       " 33.2,\n",
       " 23.200000000000003,\n",
       " 13.200000000000001,\n",
       " 3.200000000000001,\n",
       " -6.799999999999997,\n",
       " -16.799999999999997,\n",
       " -26.799999999999997,\n",
       " -36.8,\n",
       " -46.800000000000004,\n",
       " -56.800000000000004,\n",
       " -66.80000000000001]"
      ]
     },
     "execution_count": 38,
     "metadata": {},
     "output_type": "execute_result"
    }
   ],
   "source": [
    "for i in range (len(spot_prices)):\n",
    "    pnl = payoff_short_call[i] + payoff_short_put[i]\n",
    "    net_payoff.append(pnl)\n",
    "net_payoff"
   ]
  },
  {
   "cell_type": "markdown",
   "metadata": {},
   "source": [
    "FINAL ANSWER"
   ]
  },
  {
   "cell_type": "code",
   "execution_count": 39,
   "metadata": {},
   "outputs": [
    {
     "name": "stdout",
     "output_type": "stream",
     "text": [
      "Break-Even Price for Shorted Call = 935.35\n",
      "Break-Even Price for Shorted Put = 902.15\n"
     ]
    }
   ],
   "source": [
    "bep_call = strike_price + prem_rec_short_call\n",
    "bep_put = strike_price - prem_rec_short_put\n",
    "\n",
    "print(f\"Break-Even Price for Shorted Call = {bep_call}\")\n",
    "print(f\"Break-Even Price for Shorted Put = {bep_put}\")"
   ]
  },
  {
   "cell_type": "code",
   "execution_count": 40,
   "metadata": {},
   "outputs": [],
   "source": [
    "short_call_option_data = {'Spot Prices': spot_prices, 'Short Call IV': iv_call, 'Premium Paid (Call)':premium_short_call, 'P/L (Call)':payoff_short_call}\n",
    "short_call_option_data = pd.DataFrame(short_call_option_data)\n",
    "\n",
    "short_put_option_data = {'Spot Prices': spot_prices, 'Short Put IV': iv_put, 'Premium Recieved (Put)':premium_short_put, 'P/L (Put)':payoff_short_put}\n",
    "short_put_option_data = pd.DataFrame(short_put_option_data)"
   ]
  },
  {
   "cell_type": "code",
   "execution_count": 41,
   "metadata": {},
   "outputs": [
    {
     "name": "stdout",
     "output_type": "stream",
     "text": [
      "\n",
      "\t\t\tShort Call Option Data\n",
      "\n",
      "    Spot Prices  Short Call IV  Premium Paid (Call)  P/L (Call)\n",
      "0           820              0                15.35       15.35\n",
      "1           830              0                15.35       15.35\n",
      "2           840              0                15.35       15.35\n",
      "3           850              0                15.35       15.35\n",
      "4           860              0                15.35       15.35\n",
      "5           870              0                15.35       15.35\n",
      "6           880              0                15.35       15.35\n",
      "7           890              0                15.35       15.35\n",
      "8           900              0                15.35       15.35\n",
      "9           910              0                15.35       15.35\n",
      "10          920              0                15.35       15.35\n",
      "11          930            -10                15.35        5.35\n",
      "12          940            -20                15.35       -4.65\n",
      "13          950            -30                15.35      -14.65\n",
      "14          960            -40                15.35      -24.65\n",
      "15          970            -50                15.35      -34.65\n",
      "16          980            -60                15.35      -44.65\n",
      "17          990            -70                15.35      -54.65\n",
      "18         1000            -80                15.35      -64.65\n",
      "19         1010            -90                15.35      -74.65\n",
      "20         1020           -100                15.35      -84.65\n"
     ]
    }
   ],
   "source": [
    "print(\"\\n\\t\\t\\tShort Call Option Data\\n\")\n",
    "print(short_call_option_data)"
   ]
  },
  {
   "cell_type": "code",
   "execution_count": 42,
   "metadata": {},
   "outputs": [
    {
     "name": "stdout",
     "output_type": "stream",
     "text": [
      "\n",
      "\t\t\tShort Put Option Data\n",
      "\n",
      "    Spot Prices  Short Put IV  Premium Recieved (Put)  P/L (Put)\n",
      "0           820          -100                   17.85     -82.15\n",
      "1           830           -90                   17.85     -72.15\n",
      "2           840           -80                   17.85     -62.15\n",
      "3           850           -70                   17.85     -52.15\n",
      "4           860           -60                   17.85     -42.15\n",
      "5           870           -50                   17.85     -32.15\n",
      "6           880           -40                   17.85     -22.15\n",
      "7           890           -30                   17.85     -12.15\n",
      "8           900           -20                   17.85      -2.15\n",
      "9           910           -10                   17.85       7.85\n",
      "10          920             0                   17.85      17.85\n",
      "11          930             0                   17.85      17.85\n",
      "12          940             0                   17.85      17.85\n",
      "13          950             0                   17.85      17.85\n",
      "14          960             0                   17.85      17.85\n",
      "15          970             0                   17.85      17.85\n",
      "16          980             0                   17.85      17.85\n",
      "17          990             0                   17.85      17.85\n",
      "18         1000             0                   17.85      17.85\n",
      "19         1010             0                   17.85      17.85\n",
      "20         1020             0                   17.85      17.85\n"
     ]
    }
   ],
   "source": [
    "print(\"\\n\\t\\t\\tShort Put Option Data\\n\")\n",
    "print(short_put_option_data)"
   ]
  },
  {
   "cell_type": "code",
   "execution_count": 43,
   "metadata": {},
   "outputs": [
    {
     "name": "stdout",
     "output_type": "stream",
     "text": [
      "\n",
      "\t\t\tNet Pay-off Of Strategy\n",
      "\n",
      "    Strategy P/L\n",
      "0          -66.8\n",
      "1          -56.8\n",
      "2          -46.8\n",
      "3          -36.8\n",
      "4          -26.8\n",
      "5          -16.8\n",
      "6           -6.8\n",
      "7            3.2\n",
      "8           13.2\n",
      "9           23.2\n",
      "10          33.2\n",
      "11          23.2\n",
      "12          13.2\n",
      "13           3.2\n",
      "14          -6.8\n",
      "15         -16.8\n",
      "16         -26.8\n",
      "17         -36.8\n",
      "18         -46.8\n",
      "19         -56.8\n",
      "20         -66.8\n"
     ]
    }
   ],
   "source": [
    "net = {'Strategy P/L': net_payoff}\n",
    "net = pd.DataFrame(net)\n",
    "print(\"\\n\\t\\t\\tNet Pay-off Of Strategy\\n\")\n",
    "print(net)"
   ]
  },
  {
   "cell_type": "code",
   "execution_count": 51,
   "metadata": {},
   "outputs": [
    {
     "data": {
      "image/png": "[encoded data removed]",
      "text/plain": [
       "<Figure size 1000x600 with 1 Axes>"
      ]
     },
     "metadata": {},
     "output_type": "display_data"
    }
   ],
   "source": [
    "plt.figure(figsize=(10, 6))\n",
    "plt.plot(spot_prices, payoff_short_call, label='Long Call Payoff', color='red', linestyle='--')\n",
    "plt.plot(spot_prices, payoff_short_put, label='Short Put Payoff', color='blue', linestyle='--')\n",
    "plt.plot(spot_prices, net_payoff, label='Net Payoff', color='green', linewidth=2)\n",
    "plt.title('Payoff Diagram for Long Call and Short Put Options (Short Straddle)')\n",
    "plt.xlabel('Spot Prices')\n",
    "plt.ylabel('Payoff')\n",
    "plt.axhline(0, color='black', lw=0.5, ls='-')  \n",
    "plt.grid(True)\n",
    "plt.legend()\n",
    "plt.show()"
   ]
  }
 ],
 "metadata": {
  "kernelspec": {
   "display_name": "base",
   "language": "python",
   "name": "python3"
  },
  "language_info": {
   "codemirror_mode": {
    "name": "ipython",
    "version": 3
   },
   "file_extension": ".py",
   "mimetype": "text/x-python",
   "name": "python",
   "nbconvert_exporter": "python",
   "pygments_lexer": "ipython3",
   "version": "3.12.4"
  }
 },
 "nbformat": 4,
 "nbformat_minor": 2
}
