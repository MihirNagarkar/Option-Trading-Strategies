{
 "cells": [
  {
   "cell_type": "markdown",
   "metadata": {},
   "source": [
    "SHORT STRADDLE"
   ]
  },
  {
   "cell_type": "markdown",
   "metadata": {},
   "source": [
    "Importing Libraries"
   ]
  },
  {
   "cell_type": "code",
   "execution_count": 1,
   "metadata": {},
   "outputs": [],
   "source": [
    "import matplotlib.pyplot as plt\n",
    "import numpy as np\n",
    "import pandas as pd"
   ]
  },
  {
   "cell_type": "markdown",
   "metadata": {},
   "source": [
    "Computing Range of Spot Prices (for user convenience)"
   ]
  },
  {
   "cell_type": "code",
   "execution_count": 2,
   "metadata": {},
   "outputs": [
    {
     "data": {
      "text/plain": [
       "[460, 470, 480, 490, 500, 510, 520, 530, 540, 550]"
      ]
     },
     "execution_count": 2,
     "metadata": {},
     "output_type": "execute_result"
    }
   ],
   "source": [
    "spot1 = int(input(\"Enter the first spot price: \"))\n",
    "spot2 = int(input(\"Enter the second spot price: \"))\n",
    "spot_last= int(input(\"Enter the last spot price: \"))\n",
    "spot_diff = spot2 - spot1\n",
    "spot_prices = []\n",
    "\n",
    "for i in range (spot1,spot_last+1,spot_diff):\n",
    "    spot_prices.append(i)\n",
    "\n",
    "spot_prices"
   ]
  },
  {
   "cell_type": "markdown",
   "metadata": {},
   "source": [
    "Declaration & Initialization of Important Variables & Lists"
   ]
  },
  {
   "cell_type": "code",
   "execution_count": 3,
   "metadata": {},
   "outputs": [],
   "source": [
    "iv_call = []\n",
    "payoff_short_call = []\n",
    "payoff_short_put = []\n",
    "net_payoff = []\n",
    "\n",
    "strike_short_call = int(input('Enter Strike Price for Shorted Call: '))\n",
    "prem_rec_short_call = int(input('Enter Premium Received for Shorted Call: '))  # Directly store the integer\n",
    "premium_short_call = [prem_rec_short_call] * len(spot_prices)  # Create a list with repeated premium\n",
    "\n",
    "strike_short_put = int(input('Enter Strike Price for Shorted Put: '))\n",
    "prem_rec_short_put = int(input('Enter Premium Received for Shorted Put: '))  # Directly store the integer\n",
    "premium_short_put = [prem_rec_short_put] * len(spot_prices)  # Create a list with repeated premium\n"
   ]
  },
  {
   "cell_type": "markdown",
   "metadata": {},
   "source": [
    "Calculating Intrinsic Values"
   ]
  },
  {
   "cell_type": "code",
   "execution_count": 4,
   "metadata": {},
   "outputs": [],
   "source": [
    "for i in (spot_prices):\n",
    "    \n",
    "    if (strike_short_call>=i) :\n",
    "        iv_call.append(0)\n",
    "\n",
    "    elif (strike_short_call < i):\n",
    "        temp = 0.0\n",
    "        temp = strike_short_call - i\n",
    "        iv_call.append(temp)\n",
    "    \n",
    "    "
   ]
  },
  {
   "cell_type": "code",
   "execution_count": 5,
   "metadata": {},
   "outputs": [
    {
     "data": {
      "text/plain": [
       "[0, 0, 0, 0, 0, -10, -20, -30, -40, -50]"
      ]
     },
     "execution_count": 5,
     "metadata": {},
     "output_type": "execute_result"
    }
   ],
   "source": [
    "iv_call"
   ]
  },
  {
   "cell_type": "markdown",
   "metadata": {},
   "source": [
    "Computing Payoff for Short call position"
   ]
  },
  {
   "cell_type": "code",
   "execution_count": 6,
   "metadata": {},
   "outputs": [
    {
     "data": {
      "text/plain": [
       "[30, 30, 30, 30, 30, 20, 10, 0, -10, -20]"
      ]
     },
     "execution_count": 6,
     "metadata": {},
     "output_type": "execute_result"
    }
   ],
   "source": [
    "for i in range (len(spot_prices)):\n",
    "    pnl = iv_call[i] + premium_short_call[i]\n",
    "    payoff_short_call.append(pnl)\n",
    "payoff_short_call"
   ]
  },
  {
   "cell_type": "markdown",
   "metadata": {},
   "source": [
    "Similarly for our Short Put position"
   ]
  },
  {
   "cell_type": "code",
   "execution_count": 8,
   "metadata": {},
   "outputs": [],
   "source": [
    "iv_put =[]"
   ]
  },
  {
   "cell_type": "code",
   "execution_count": 9,
   "metadata": {},
   "outputs": [],
   "source": [
    "for i in (spot_prices):\n",
    "    if (strike_short_put>i) :\n",
    "        temp = 0.0\n",
    "        temp = i - strike_short_put\n",
    "        iv_put.append(temp)\n",
    "\n",
    "    elif (strike_short_put <= i):\n",
    "        iv_put.append(0)"
   ]
  },
  {
   "cell_type": "code",
   "execution_count": 10,
   "metadata": {},
   "outputs": [
    {
     "data": {
      "text/plain": [
       "[-30, -20, -10, 0, 0, 0, 0, 0, 0, 0]"
      ]
     },
     "execution_count": 10,
     "metadata": {},
     "output_type": "execute_result"
    }
   ],
   "source": [
    "iv_put"
   ]
  },
  {
   "cell_type": "code",
   "execution_count": 11,
   "metadata": {},
   "outputs": [
    {
     "data": {
      "text/plain": [
       "[-20, -10, 0, 10, 10, 10, 10, 10, 10, 10]"
      ]
     },
     "execution_count": 11,
     "metadata": {},
     "output_type": "execute_result"
    }
   ],
   "source": [
    "for i in range (len(spot_prices)):\n",
    "    pnl = iv_put[i] + premium_short_put[i]\n",
    "    payoff_short_put.append(pnl)\n",
    "payoff_short_put"
   ]
  },
  {
   "cell_type": "markdown",
   "metadata": {},
   "source": [
    "Calculation for Net Payoff"
   ]
  },
  {
   "cell_type": "code",
   "execution_count": 12,
   "metadata": {},
   "outputs": [],
   "source": [
    "for i in range (len(spot_prices)):\n",
    "    pnl = payoff_short_call[i] + payoff_short_put[i]\n",
    "    net_payoff.append(pnl)"
   ]
  },
  {
   "cell_type": "code",
   "execution_count": 13,
   "metadata": {},
   "outputs": [
    {
     "data": {
      "text/plain": [
       "[10, 20, 30, 40, 40, 30, 20, 10, 0, -10]"
      ]
     },
     "execution_count": 13,
     "metadata": {},
     "output_type": "execute_result"
    }
   ],
   "source": [
    "net_payoff"
   ]
  },
  {
   "cell_type": "code",
   "execution_count": 14,
   "metadata": {},
   "outputs": [],
   "source": [
    "short_call_option_data = {'Spot Prices': spot_prices, 'Short Call IV': iv_call, 'Premium Recieved (Call)':premium_short_call, 'P/L (Call)':payoff_short_call}\n",
    "short_call_option_data = pd.DataFrame(short_call_option_data)\n",
    "\n",
    "short_put_option_data = {'Spot Prices': spot_prices, 'Short Put IV': iv_put, 'Premium Recieved (Put)':premium_short_put, 'P/L (Put)':payoff_short_put}\n",
    "short_put_option_data = pd.DataFrame(short_put_option_data)"
   ]
  },
  {
   "cell_type": "code",
   "execution_count": 15,
   "metadata": {},
   "outputs": [
    {
     "name": "stdout",
     "output_type": "stream",
     "text": [
      "\n",
      "\t\t\tShort Call Option Data\n",
      "\n",
      "   Spot Prices  Short Call IV  Premium Recieved (Call)  P/L (Call)\n",
      "0          460              0                       30          30\n",
      "1          470              0                       30          30\n",
      "2          480              0                       30          30\n",
      "3          490              0                       30          30\n",
      "4          500              0                       30          30\n",
      "5          510            -10                       30          20\n",
      "6          520            -20                       30          10\n",
      "7          530            -30                       30           0\n",
      "8          540            -40                       30         -10\n",
      "9          550            -50                       30         -20\n"
     ]
    }
   ],
   "source": [
    "print(\"\\n\\t\\t\\tShort Call Option Data\\n\")\n",
    "print(short_call_option_data)"
   ]
  },
  {
   "cell_type": "code",
   "execution_count": 16,
   "metadata": {},
   "outputs": [
    {
     "name": "stdout",
     "output_type": "stream",
     "text": [
      "\n",
      "\t\t\tShort Put Option Data\n",
      "\n",
      "   Spot Prices  Short Put IV  Premium Recieved (Put)  P/L (Put)\n",
      "0          460           -30                      10        -20\n",
      "1          470           -20                      10        -10\n",
      "2          480           -10                      10          0\n",
      "3          490             0                      10         10\n",
      "4          500             0                      10         10\n",
      "5          510             0                      10         10\n",
      "6          520             0                      10         10\n",
      "7          530             0                      10         10\n",
      "8          540             0                      10         10\n",
      "9          550             0                      10         10\n"
     ]
    }
   ],
   "source": [
    "print(\"\\n\\t\\t\\tShort Put Option Data\\n\")\n",
    "print(short_put_option_data)"
   ]
  },
  {
   "cell_type": "code",
   "execution_count": 20,
   "metadata": {},
   "outputs": [
    {
     "data": {
      "image/png": "[encoded data removed]",
      "text/plain": [
       "<Figure size 1000x600 with 1 Axes>"
      ]
     },
     "metadata": {},
     "output_type": "display_data"
    }
   ],
   "source": [
    "plt.figure(figsize=(10, 6))\n",
    "plt.plot(spot_prices, payoff_short_call, label='Short Call Payoff', color='red', linestyle='--')\n",
    "plt.plot(spot_prices, payoff_short_put, label='Short Put Payoff', color='blue', linestyle='--')\n",
    "plt.plot(spot_prices, net_payoff, label='Net Payoff', color='green', linewidth=2)\n",
    "plt.title('Payoff Diagram for Short Call and Short Put Options')\n",
    "plt.xlabel('Spot Prices')\n",
    "plt.ylabel('Payoff')\n",
    "plt.axhline(0, color='black', lw=0.5, ls='-')  # Add a horizontal line at y=0 for reference\n",
    "plt.axvline(0, color='black', lw=0.5, ls='--')  # Add a vertical line at x=0 for reference\n",
    "plt.grid(True)\n",
    "plt.legend()\n",
    "plt.show()"
   ]
  }
 ],
 "metadata": {
  "kernelspec": {
   "display_name": "base",
   "language": "python",
   "name": "python3"
  },
  "language_info": {
   "codemirror_mode": {
    "name": "ipython",
    "version": 3
   },
   "file_extension": ".py",
   "mimetype": "text/x-python",
   "name": "python",
   "nbconvert_exporter": "python",
   "pygments_lexer": "ipython3",
   "version": "3.12.4"
  }
 },
 "nbformat": 4,
 "nbformat_minor": 2
}
